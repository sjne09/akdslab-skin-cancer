{
 "cells": [
  {
   "cell_type": "code",
   "execution_count": 4,
   "metadata": {},
   "outputs": [],
   "source": [
    "DATA_DIR = \"/opt/gpudata/skin-cancer/data\"\n",
    "OUTPUT_DIR = \"/opt/gpudata/skin-cancer/outputs\""
   ]
  },
  {
   "cell_type": "code",
   "execution_count": 2,
   "metadata": {},
   "outputs": [],
   "source": [
    "# load cross validation folds\n",
    "import json\n",
    "import os\n",
    "\n",
    "with open(os.path.join(DATA_DIR, \"folds.json\"), \"r\") as f:\n",
    "    folds = json.load(f)"
   ]
  },
  {
   "cell_type": "code",
   "execution_count": 141,
   "metadata": {},
   "outputs": [],
   "source": [
    "# load slide embeddings\n",
    "import pickle\n",
    "\n",
    "with open(os.path.join(OUTPUT_DIR, \"gigapath_slide_embeds_pool.pkl\"), \"rb\") as f:\n",
    "    embeds = pickle.load(f)"
   ]
  },
  {
   "cell_type": "code",
   "execution_count": 142,
   "metadata": {},
   "outputs": [],
   "source": [
    "# map specimen id to a list of WSIs\n",
    "specs = {}\n",
    "for slide in embeds.keys():\n",
    "    key = slide[:6]\n",
    "    if specs.get(key) is not None:\n",
    "        specs[key].append(slide)\n",
    "    else:\n",
    "        specs[key] = [slide]"
   ]
  },
  {
   "cell_type": "code",
   "execution_count": 143,
   "metadata": {},
   "outputs": [],
   "source": [
    "slide_folds = [[] for _ in range(5)]\n",
    "for i, fold in enumerate(folds):\n",
    "    for spec in fold:\n",
    "        slide_folds[i].extend(specs[spec])"
   ]
  },
  {
   "cell_type": "code",
   "execution_count": 144,
   "metadata": {},
   "outputs": [],
   "source": [
    "# load data labels\n",
    "import pandas as pd\n",
    "\n",
    "labels = pd.read_csv(os.path.join(DATA_DIR, \"labels/labels.csv\"))\n",
    "labels[\"specimenid\"] = labels[\"specimenid\"].astype(\"string\")"
   ]
  },
  {
   "cell_type": "code",
   "execution_count": 145,
   "metadata": {},
   "outputs": [],
   "source": [
    "# create dataframe with slide data\n",
    "import numpy as np\n",
    "\n",
    "slide_ids = list(embeds.keys())\n",
    "specimen_ids = [slide_id[:6] for slide_id in slide_ids]\n",
    "embeddings = [embeds[slide_id] for slide_id in slide_ids]\n",
    "df = pd.DataFrame({\"slide_id\": slide_ids, \"specimen_id\": specimen_ids, \"embedding\": embeddings})\n",
    "df[\"slide_id\"] = df[\"slide_id\"].astype(\"string\")\n",
    "df[\"specimen_id\"] = df[\"specimen_id\"].astype(\"string\")\n",
    "df[\"embedding\"] = df[\"embedding\"].apply(lambda x: np.array(x.squeeze(0)))"
   ]
  },
  {
   "cell_type": "code",
   "execution_count": 146,
   "metadata": {},
   "outputs": [],
   "source": [
    "# merge slide data dataframe with labels dataframe\n",
    "df = df.merge(\n",
    "    labels[\n",
    "        [\"specimenid\", \"bowens1\", \"scc1\", \"bcc1\"]\n",
    "    ], how=\"right\", left_on=\"specimen_id\", right_on=\"specimenid\",\n",
    ")\n",
    "df = df.set_index(\"slide_id\")"
   ]
  },
  {
   "cell_type": "code",
   "execution_count": 148,
   "metadata": {},
   "outputs": [],
   "source": [
    "from enum import IntEnum\n",
    "\n",
    "class Label(IntEnum):\n",
    "    na = 0\n",
    "    bowens = 1\n",
    "    bcc = 2\n",
    "    scc = 3\n",
    "\n",
    "\n",
    "def get_labels(x):\n",
    "    if x[\"bowens1\"].item() == 1:\n",
    "        return Label.bowens.value\n",
    "    elif x[\"bcc1\"].item() == 1:\n",
    "        return Label.bcc.value\n",
    "    elif x[\"scc1\"].item() == 1:\n",
    "        return Label.scc.value\n",
    "    else:\n",
    "        return Label.na.value"
   ]
  },
  {
   "cell_type": "code",
   "execution_count": 149,
   "metadata": {},
   "outputs": [],
   "source": [
    "X = df[\"embedding\"]\n",
    "y = df[[\"bowens1\", \"scc1\", \"bcc1\"]]\n",
    "y = y.apply(get_labels, axis=1)"
   ]
  },
  {
   "cell_type": "code",
   "execution_count": 159,
   "metadata": {},
   "outputs": [
    {
     "name": "stdout",
     "output_type": "stream",
     "text": [
      "0.5023696682464455\n",
      "              precision    recall  f1-score   support\n",
      "\n",
      "           0       0.58      0.61      0.59       143\n",
      "           1       0.43      0.39      0.41       141\n",
      "           2       0.47      0.54      0.51       101\n",
      "           3       0.56      0.41      0.47        37\n",
      "\n",
      "    accuracy                           0.50       422\n",
      "   macro avg       0.51      0.49      0.49       422\n",
      "weighted avg       0.50      0.50      0.50       422\n",
      "\n",
      "0.5666003976143141\n",
      "              precision    recall  f1-score   support\n",
      "\n",
      "           0       0.56      0.71      0.62       148\n",
      "           1       0.45      0.46      0.46       155\n",
      "           2       0.63      0.50      0.56       142\n",
      "           3       0.86      0.66      0.75        58\n",
      "\n",
      "    accuracy                           0.57       503\n",
      "   macro avg       0.62      0.58      0.60       503\n",
      "weighted avg       0.58      0.57      0.57       503\n",
      "\n",
      "0.4880952380952381\n",
      "              precision    recall  f1-score   support\n",
      "\n",
      "           0       0.59      0.60      0.60       148\n",
      "           1       0.32      0.38      0.35       114\n",
      "           2       0.58      0.47      0.52       130\n",
      "           3       0.41      0.43      0.42        28\n",
      "\n",
      "    accuracy                           0.49       420\n",
      "   macro avg       0.48      0.47      0.47       420\n",
      "weighted avg       0.50      0.49      0.49       420\n",
      "\n",
      "0.5275\n",
      "              precision    recall  f1-score   support\n",
      "\n",
      "           0       0.56      0.65      0.60       127\n",
      "           1       0.43      0.42      0.42       124\n",
      "           2       0.52      0.49      0.50       103\n",
      "           3       0.77      0.59      0.67        46\n",
      "\n",
      "    accuracy                           0.53       400\n",
      "   macro avg       0.57      0.53      0.55       400\n",
      "weighted avg       0.53      0.53      0.53       400\n",
      "\n",
      "0.5246753246753246\n",
      "              precision    recall  f1-score   support\n",
      "\n",
      "           0       0.61      0.62      0.61       140\n",
      "           1       0.35      0.41      0.38       104\n",
      "           2       0.58      0.54      0.55        99\n",
      "           3       0.73      0.45      0.56        42\n",
      "\n",
      "    accuracy                           0.52       385\n",
      "   macro avg       0.57      0.51      0.53       385\n",
      "weighted avg       0.54      0.52      0.53       385\n",
      "\n"
     ]
    }
   ],
   "source": [
    "import numpy as np\n",
    "from sklearn.linear_model import LogisticRegression\n",
    "from xgboost import XGBClassifier\n",
    "from sklearn.metrics import classification_report, accuracy_score\n",
    "\n",
    "# clf = LogisticRegression(max_iter=500)\n",
    "clf = XGBClassifier(objective=\"multi:softmax\", num_class=4)\n",
    "\n",
    "val_set = np.arange(len(slide_folds) - 1, -1, -1)\n",
    "for i in range(len(slide_folds)):\n",
    "    val_fold = slide_folds[val_set[i]]\n",
    "\n",
    "    X_val = X.loc[val_fold]\n",
    "    X_train = X[X.index.difference(X_val.index)]\n",
    "    X_val = X_val.to_list()\n",
    "    X_train = X_train.to_list()\n",
    "\n",
    "    y_val = y.loc[val_fold]\n",
    "    y_train = y[y.index.difference(y_val.index)]\n",
    "\n",
    "    clf.fit(X_train, y_train)\n",
    "    preds = clf.predict(X_val)\n",
    "    probs = clf.predict_proba(X_val)\n",
    "    score = accuracy_score(y_val, preds)\n",
    "    print(score)\n",
    "    print(classification_report(y_val, preds))"
   ]
  }
 ],
 "metadata": {
  "kernelspec": {
   "display_name": "UNI",
   "language": "python",
   "name": "python3"
  },
  "language_info": {
   "codemirror_mode": {
    "name": "ipython",
    "version": 3
   },
   "file_extension": ".py",
   "mimetype": "text/x-python",
   "name": "python",
   "nbconvert_exporter": "python",
   "pygments_lexer": "ipython3",
   "version": "3.10.13"
  }
 },
 "nbformat": 4,
 "nbformat_minor": 2
}
