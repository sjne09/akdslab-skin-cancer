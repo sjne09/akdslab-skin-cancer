{
 "cells": [
  {
   "cell_type": "code",
   "execution_count": null,
   "metadata": {},
   "outputs": [],
   "source": [
    "DATA_DIR = \"/opt/gpudata/skin-cancer/data\"\n",
    "OUTPUT_DIR = \"/opt/gpudata/skin-cancer/outputs\""
   ]
  },
  {
   "cell_type": "code",
   "execution_count": null,
   "metadata": {},
   "outputs": [],
   "source": [
    "# load cross validation folds\n",
    "import json\n",
    "import os\n",
    "\n",
    "with open(os.path.join(DATA_DIR, \"folds.json\"), \"r\") as f:\n",
    "    folds = json.load(f)"
   ]
  },
  {
   "cell_type": "code",
   "execution_count": null,
   "metadata": {},
   "outputs": [],
   "source": [
    "# load slide embeddings\n",
    "import pickle\n",
    "\n",
    "with open(\n",
    "    os.path.join(OUTPUT_DIR, \"gigapath_slide_embeds_pool.pkl\"), \"rb\"\n",
    ") as f:\n",
    "    embeds = pickle.load(f)"
   ]
  },
  {
   "cell_type": "code",
   "execution_count": null,
   "metadata": {},
   "outputs": [],
   "source": [
    "# map specimen id to a list of WSIs\n",
    "specs = {}\n",
    "for slide in embeds.keys():\n",
    "    key = slide[:6]\n",
    "    if specs.get(key) is not None:\n",
    "        specs[key].append(slide)\n",
    "    else:\n",
    "        specs[key] = [slide]"
   ]
  },
  {
   "cell_type": "code",
   "execution_count": null,
   "metadata": {},
   "outputs": [],
   "source": [
    "# instead, just add \"fold\" col to dataframe and groupby to get grouped data\n",
    "\n",
    "slide_folds = [[] for _ in range(5)]\n",
    "for i, fold in enumerate(folds):\n",
    "    for spec in fold:\n",
    "        slide_folds[i].extend(specs[spec])"
   ]
  },
  {
   "cell_type": "code",
   "execution_count": null,
   "metadata": {},
   "outputs": [],
   "source": [
    "# load data labels\n",
    "import pandas as pd\n",
    "\n",
    "labels = pd.read_csv(os.path.join(DATA_DIR, \"labels/labels.csv\"))\n",
    "labels[\"specimenid\"] = labels[\"specimenid\"].astype(\"string\")"
   ]
  },
  {
   "cell_type": "code",
   "execution_count": null,
   "metadata": {},
   "outputs": [],
   "source": [
    "# create dataframe with slide data\n",
    "import numpy as np\n",
    "\n",
    "slide_ids = list(embeds.keys())\n",
    "specimen_ids = [slide_id[:6] for slide_id in slide_ids]\n",
    "embeddings = [embeds[slide_id] for slide_id in slide_ids]\n",
    "df = pd.DataFrame(\n",
    "    {\n",
    "        \"slide_id\": slide_ids,\n",
    "        \"specimen_id\": specimen_ids,\n",
    "        \"embedding\": embeddings,\n",
    "    }\n",
    ")\n",
    "df[\"slide_id\"] = df[\"slide_id\"].astype(\"string\")\n",
    "df[\"specimen_id\"] = df[\"specimen_id\"].astype(\"string\")\n",
    "df[\"embedding\"] = df[\"embedding\"].apply(lambda x: np.array(x.squeeze(0)))"
   ]
  },
  {
   "cell_type": "code",
   "execution_count": null,
   "metadata": {},
   "outputs": [],
   "source": [
    "# merge slide data dataframe with labels dataframe\n",
    "df = df.merge(\n",
    "    labels[[\"specimenid\", \"bowens1\", \"scc1\", \"bcc1\"]],\n",
    "    how=\"right\",\n",
    "    left_on=\"specimen_id\",\n",
    "    right_on=\"specimenid\",\n",
    ")\n",
    "df = df.set_index(\"slide_id\")"
   ]
  },
  {
   "cell_type": "code",
   "execution_count": null,
   "metadata": {},
   "outputs": [],
   "source": [
    "from enum import IntEnum\n",
    "\n",
    "\n",
    "class Label(IntEnum):\n",
    "    na = 0\n",
    "    bowens = 1\n",
    "    bcc = 2\n",
    "    scc = 3\n",
    "\n",
    "\n",
    "def get_labels(x):\n",
    "    if x[\"bowens1\"].item() == 1:\n",
    "        return Label.bowens.value\n",
    "    elif x[\"bcc1\"].item() == 1:\n",
    "        return Label.bcc.value\n",
    "    elif x[\"scc1\"].item() == 1:\n",
    "        return Label.scc.value\n",
    "    else:\n",
    "        return Label.na.value"
   ]
  },
  {
   "cell_type": "code",
   "execution_count": null,
   "metadata": {},
   "outputs": [],
   "source": [
    "X = df[\"embedding\"]\n",
    "y = df[[\"bowens1\", \"scc1\", \"bcc1\"]]\n",
    "y = y.apply(get_labels, axis=1)"
   ]
  },
  {
   "cell_type": "code",
   "execution_count": null,
   "metadata": {},
   "outputs": [],
   "source": [
    "import numpy as np\n",
    "from sklearn.linear_model import LogisticRegression\n",
    "from xgboost import XGBClassifier\n",
    "from sklearn.metrics import classification_report, accuracy_score\n",
    "\n",
    "# clf = LogisticRegression(max_iter=500)\n",
    "clf = XGBClassifier(objective=\"multi:softmax\", num_class=4)\n",
    "\n",
    "val_set = np.arange(len(slide_folds) - 1, -1, -1)\n",
    "for i in range(len(slide_folds)):\n",
    "    val_fold = slide_folds[val_set[i]]\n",
    "\n",
    "    X_val = X.loc[val_fold]\n",
    "    X_train = X[X.index.difference(X_val.index)]\n",
    "    X_val = X_val.to_list()\n",
    "    X_train = X_train.to_list()\n",
    "\n",
    "    y_val = y.loc[val_fold]\n",
    "    y_train = y[y.index.difference(y_val.index)]\n",
    "\n",
    "    clf.fit(X_train, y_train)\n",
    "    preds = clf.predict(X_val)\n",
    "    probs = clf.predict_proba(X_val)\n",
    "    score = accuracy_score(y_val, preds)\n",
    "    print(score)\n",
    "    print(classification_report(y_val, preds))"
   ]
  }
 ],
 "metadata": {
  "kernelspec": {
   "display_name": "UNI",
   "language": "python",
   "name": "python3"
  },
  "language_info": {
   "codemirror_mode": {
    "name": "ipython",
    "version": 3
   },
   "file_extension": ".py",
   "mimetype": "text/x-python",
   "name": "python",
   "nbconvert_exporter": "python",
   "pygments_lexer": "ipython3",
   "version": "3.10.13"
  }
 },
 "nbformat": 4,
 "nbformat_minor": 2
}
