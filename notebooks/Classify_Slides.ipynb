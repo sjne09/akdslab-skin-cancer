{
 "cells": [
  {
   "cell_type": "code",
   "execution_count": null,
   "metadata": {},
   "outputs": [],
   "source": [
    "import os\n",
    "from dotenv import load_dotenv\n",
    "\n",
    "load_dotenv()\n",
    "os.chdir(\"..\")\n",
    "\n",
    "DATA_DIR = os.getenv(\"DATA_DIR\")\n",
    "OUTPUT_DIR = os.getenv(\"OUTPUT_DIR\")"
   ]
  },
  {
   "cell_type": "code",
   "execution_count": null,
   "metadata": {},
   "outputs": [],
   "source": [
    "from utils.load_data import load_data\n",
    "\n",
    "label_path = os.path.join(DATA_DIR, \"labels/labels.csv\")\n",
    "embedding_path = os.path.join(\n",
    "    OUTPUT_DIR, \"prism/slide_embeddings/prism_slide_embeds.pkl\"\n",
    ")\n",
    "fold_path = os.path.join(DATA_DIR, \"folds.json\")\n",
    "\n",
    "df = load_data(\n",
    "    label_path=label_path, embedding_path=embedding_path, fold_path=fold_path\n",
    ")"
   ]
  },
  {
   "cell_type": "code",
   "execution_count": null,
   "metadata": {},
   "outputs": [],
   "source": [
    "# map specimen id to a list of WSIs\n",
    "specs = df.groupby(\"specimen_id\").groups\n",
    "specs = {k: list(v) for k, v in specs.items()}\n",
    "\n",
    "# get list of slides within each fold\n",
    "slide_folds = df.groupby(\"fold\").groups\n",
    "slide_folds = [list(slides) for slides in slide_folds.values()]"
   ]
  },
  {
   "cell_type": "code",
   "execution_count": null,
   "metadata": {},
   "outputs": [],
   "source": [
    "from data_models.Label import Label\n",
    "\n",
    "specimen_df = df.reset_index()[\n",
    "    [\"specimen_id\", \"bowens\", \"scc\", \"bcc\", \"na\"]\n",
    "].drop_duplicates(subset=[\"specimen_id\"])\n",
    "\n",
    "spec_freqs = {\n",
    "    label: specimen_df[label].value_counts(normalize=True).iloc[1]\n",
    "    for label in Label._member_names_\n",
    "}"
   ]
  },
  {
   "cell_type": "code",
   "execution_count": null,
   "metadata": {},
   "outputs": [],
   "source": [
    "X = df[\"embedding\"]\n",
    "y = df[\"label\"]"
   ]
  },
  {
   "cell_type": "code",
   "execution_count": null,
   "metadata": {},
   "outputs": [],
   "source": [
    "import pandas as pd\n",
    "\n",
    "from utils.split import train_val_split\n",
    "from utils.eval import Evaluator, get_spec_level_probs\n",
    "\n",
    "\n",
    "def crossval(clf, folds: list, y_onehot: pd.DataFrame, exp_name: str):\n",
    "    evaluator = Evaluator(Label)\n",
    "\n",
    "    for i, val_fold_indices in enumerate(folds):\n",
    "        # fit the classifier on the train data and extract probs\n",
    "        X_train, y_train, X_val, _ = train_val_split(\n",
    "            X, y, val_fold_indices, False\n",
    "        )\n",
    "        clf.fit(X_train, y_train)\n",
    "        probs = clf.predict_proba(X_val)\n",
    "\n",
    "        # probs are on slide-level - need specimen level\n",
    "        _, probs = get_spec_level_probs(val_fold_indices, probs)\n",
    "\n",
    "        # get onehot labels for val set\n",
    "        y_onehot_val = (\n",
    "            y_onehot.loc[val_fold_indices]\n",
    "            .drop_duplicates(subset=[\"specimen_id\"])[Label._member_names_]\n",
    "            .to_numpy()\n",
    "        )\n",
    "\n",
    "        evaluator.fold(probs, y_onehot_val, i, len(folds))\n",
    "\n",
    "    evaluator.finalize(spec_freqs)\n",
    "    evaluator.save_figs(exp_name)"
   ]
  },
  {
   "cell_type": "code",
   "execution_count": null,
   "metadata": {},
   "outputs": [],
   "source": [
    "y_onehot = df[Label._member_names_ + [\"specimen_id\"]]"
   ]
  },
  {
   "cell_type": "code",
   "execution_count": null,
   "metadata": {},
   "outputs": [],
   "source": [
    "from xgboost import XGBClassifier\n",
    "\n",
    "clf = XGBClassifier(objective=\"multi:softmax\", num_class=4)\n",
    "crossval(clf, slide_folds, y_onehot, \"prism/perceiver/prism-xgb\")"
   ]
  },
  {
   "cell_type": "code",
   "execution_count": null,
   "metadata": {},
   "outputs": [],
   "source": [
    "from sklearn.linear_model import LogisticRegression\n",
    "\n",
    "clf = LogisticRegression(max_iter=1000, solver=\"saga\")\n",
    "crossval(clf, slide_folds, y_onehot, \"prism/perceiver/prism-lr\")"
   ]
  },
  {
   "cell_type": "code",
   "execution_count": null,
   "metadata": {},
   "outputs": [],
   "source": [
    "from sklearn.linear_model import SGDClassifier\n",
    "\n",
    "clf = SGDClassifier(loss=\"log_loss\")\n",
    "\n",
    "crossval(clf, slide_folds, y_onehot, \"prism/perceiver/prism-sgd_lr\")"
   ]
  },
  {
   "cell_type": "code",
   "execution_count": null,
   "metadata": {},
   "outputs": [],
   "source": []
  }
 ],
 "metadata": {
  "kernelspec": {
   "display_name": "UNI",
   "language": "python",
   "name": "python3"
  },
  "language_info": {
   "codemirror_mode": {
    "name": "ipython",
    "version": 3
   },
   "file_extension": ".py",
   "mimetype": "text/x-python",
   "name": "python",
   "nbconvert_exporter": "python",
   "pygments_lexer": "ipython3",
   "version": "3.10.13"
  }
 },
 "nbformat": 4,
 "nbformat_minor": 2
}
