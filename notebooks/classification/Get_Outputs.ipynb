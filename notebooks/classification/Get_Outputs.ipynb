{
 "cells": [
  {
   "cell_type": "code",
   "execution_count": null,
   "metadata": {},
   "outputs": [],
   "source": [
    "%load_ext autoreload\n",
    "%autoreload 2"
   ]
  },
  {
   "cell_type": "code",
   "execution_count": null,
   "metadata": {},
   "outputs": [],
   "source": [
    "import os\n",
    "from dotenv import load_dotenv\n",
    "\n",
    "load_dotenv()\n",
    "os.chdir(\"..\")\n",
    "\n",
    "DATA_DIR = os.getenv(\"DATA_DIR\")\n",
    "OUTPUT_DIR = os.getenv(\"OUTPUT_DIR\")"
   ]
  },
  {
   "cell_type": "code",
   "execution_count": null,
   "metadata": {},
   "outputs": [],
   "source": [
    "fms = [\"gigapath\", \"uni\", \"prism\"]\n",
    "MODEL_DIRS = [os.path.join(OUTPUT_DIR, f\"chkpts/{fm}\") for fm in fms]\n",
    "model_files = [\n",
    "    os.path.join(fm_dir, file)\n",
    "    for fm_dir in MODEL_DIRS\n",
    "    for file in os.listdir(fm_dir)\n",
    "]"
   ]
  },
  {
   "cell_type": "code",
   "execution_count": null,
   "metadata": {},
   "outputs": [],
   "source": [
    "# load the labels data with folds\n",
    "import numpy as np\n",
    "\n",
    "from utils.load_data import load_data\n",
    "from data_models.Label import Label\n",
    "\n",
    "label_path = os.path.join(DATA_DIR, \"labels/labels.csv\")\n",
    "fold_path = os.path.join(DATA_DIR, \"folds.json\")\n",
    "\n",
    "df = load_data(label_path=label_path, fold_path=fold_path)\n",
    "df = df.set_index(\"specimen_id\")\n",
    "labels_onehot = df[Label._member_names_].to_dict(orient=\"split\", index=True)\n",
    "labels_onehot = {\n",
    "    k: np.array(labels_onehot[\"data\"][i])\n",
    "    for i, k in enumerate(labels_onehot[\"index\"])\n",
    "}\n",
    "labels_dict = {row.name: int(row[\"label\"]) for _, row in df.iterrows()}"
   ]
  },
  {
   "cell_type": "code",
   "execution_count": null,
   "metadata": {},
   "outputs": [],
   "source": [
    "tile_embed_dirs = {\n",
    "    fm: os.path.join(OUTPUT_DIR, f\"{fm}/tile_embeddings_sorted\") for fm in fms\n",
    "}\n",
    "tile_embed_paths = {\n",
    "    fm: [\n",
    "        os.path.join(tile_embed_dirs[fm], fname)\n",
    "        for fname in os.listdir(tile_embed_dirs[fm])\n",
    "        if fname.endswith(\".pkl\") and fname[:6] in set(df.index)\n",
    "    ]\n",
    "    for fm in fms\n",
    "}"
   ]
  },
  {
   "cell_type": "code",
   "execution_count": null,
   "metadata": {},
   "outputs": [],
   "source": [
    "# get list of specimens within each fold\n",
    "specimens_by_fold = df.groupby(\"fold\").groups\n",
    "specimens_by_fold = [list(specs) for specs in specimens_by_fold.values()]"
   ]
  },
  {
   "cell_type": "code",
   "execution_count": null,
   "metadata": {},
   "outputs": [],
   "source": [
    "# map specimens to slides\n",
    "slides_by_specimen = {fm: {spec: [] for spec in list(df.index)} for fm in fms}\n",
    "for fm in fms:\n",
    "    for slide in tile_embed_paths[fm]:\n",
    "        slide_name = os.path.basename(slide)[:-4]\n",
    "        spec = slide_name[:6]\n",
    "        if slides_by_specimen[fm].get(spec) is not None:\n",
    "            slides_by_specimen[fm][spec].append(slide)"
   ]
  },
  {
   "cell_type": "code",
   "execution_count": null,
   "metadata": {},
   "outputs": [],
   "source": [
    "from data_models.label import Label\n",
    "\n",
    "class_freqs = {\n",
    "    label: df[label].value_counts(normalize=True).iloc[1]\n",
    "    for label in Label._member_names_\n",
    "}"
   ]
  },
  {
   "cell_type": "code",
   "execution_count": null,
   "metadata": {},
   "outputs": [],
   "source": [
    "import torch\n",
    "\n",
    "os.environ[\"CUDA_VISIBLE_DEVICES\"] = \"1\"\n",
    "device = torch.device(\"cuda\" if torch.cuda.is_available() else \"cpu\")\n",
    "print(f\"Using device {device}\")"
   ]
  },
  {
   "cell_type": "code",
   "execution_count": null,
   "metadata": {},
   "outputs": [],
   "source": [
    "from typing import Dict, List, Tuple\n",
    "\n",
    "from torch.utils.data import DataLoader\n",
    "\n",
    "from data_models.datasets import SlideEncodingDataset, collate_tile_embeds\n",
    "from utils.split import train_val_split_slides, train_val_split_labels\n",
    "\n",
    "\n",
    "def get_loaders(\n",
    "    val_fold: int,\n",
    "    specimens_by_fold: List[List[str]],\n",
    "    slides_by_specimen: Dict[str, List[str]],\n",
    "    labels_by_specimen: Dict[str, int],\n",
    ") -> Tuple[DataLoader, DataLoader]:\n",
    "    train, val = train_val_split_slides(\n",
    "        val_fold=val_fold,\n",
    "        specimens_by_fold=specimens_by_fold,\n",
    "        slides_by_specimen=slides_by_specimen,\n",
    "    )\n",
    "    train_labels, val_labels = train_val_split_labels(\n",
    "        val_fold=val_fold,\n",
    "        labels_by_specimen=labels_by_specimen,\n",
    "        specimens_by_fold=specimens_by_fold,\n",
    "    )\n",
    "\n",
    "    train_loader = DataLoader(\n",
    "        SlideEncodingDataset(train, train_labels),\n",
    "        batch_size=1,\n",
    "        shuffle=True,\n",
    "        collate_fn=collate_tile_embeds,\n",
    "    )\n",
    "    val_loader = DataLoader(\n",
    "        SlideEncodingDataset(val, val_labels),\n",
    "        batch_size=1,\n",
    "        shuffle=False,\n",
    "        collate_fn=collate_tile_embeds,\n",
    "    )\n",
    "\n",
    "    return train_loader, val_loader"
   ]
  },
  {
   "cell_type": "code",
   "execution_count": null,
   "metadata": {},
   "outputs": [],
   "source": [
    "from operator import itemgetter\n",
    "\n",
    "from torch import nn\n",
    "import pandas as pd\n",
    "\n",
    "from models.utils.train import val_epoch\n",
    "from evaluation.eval import get_spec_level_probs\n",
    "\n",
    "from sklearn.metrics import roc_auc_score, average_precision_score\n",
    "from models.agg import MILClassifier\n",
    "\n",
    "\n",
    "NUM_LABELS = 4\n",
    "EMBED_DIMS = {\"gigapath\": 1536, \"uni\": 1024, \"prism\": 2560}\n",
    "\n",
    "auroc_keys = [k + \"_auroc\" for k in [\"benign\", \"bowens\", \"bcc\", \"scc\"]]\n",
    "auprc_keys = [k + \"_auprc\" for k in [\"benign\", \"bowens\", \"bcc\", \"scc\"]]\n",
    "results = pd.DataFrame(\n",
    "    columns=[\"foundation_model\", \"aggregator\", \"classifier\", \"fold\"]\n",
    "    + auroc_keys\n",
    "    + auprc_keys\n",
    ")\n",
    "\n",
    "\n",
    "for m in model_files:\n",
    "    model_details = {}\n",
    "    fm, agg, heads, _, fold = os.path.basename(m).split(\".\")[0].split(\"-\")\n",
    "\n",
    "    if agg == \"gabmil\":\n",
    "        model = MILClassifier(\n",
    "            EMBED_DIMS[fm], NUM_LABELS, int(heads.split(\"_\")[0]), gated=True\n",
    "        )\n",
    "    elif agg == \"abmil\":\n",
    "        model = MILClassifier(\n",
    "            EMBED_DIMS[fm], NUM_LABELS, int(heads.split(\"_\")[0]), gated=False\n",
    "        )\n",
    "    model.load_state_dict(torch.load(m))\n",
    "    model.to(device)\n",
    "\n",
    "    loss_fn = nn.CrossEntropyLoss()\n",
    "\n",
    "    _, val_loader = get_loaders(\n",
    "        int(fold), specimens_by_fold, slides_by_specimen[fm], labels_dict\n",
    "    )\n",
    "\n",
    "    loss, labels, probs, ids = val_epoch(model, val_loader, loss_fn, device)\n",
    "    ids, probs = get_spec_level_probs(ids, probs)\n",
    "    labels_onehot_val = np.array(itemgetter(*ids)(labels_onehot))\n",
    "\n",
    "    auroc = roc_auc_score(\n",
    "        labels_onehot_val, probs, average=None, multi_class=\"ovr\"\n",
    "    )\n",
    "    auroc_dict = {auroc_keys[i]: v for i, v in enumerate(auroc)}\n",
    "\n",
    "    auprc = average_precision_score(labels_onehot_val, probs, average=None)\n",
    "    auprc_dict = {auprc_keys[i]: v for i, v in enumerate(auprc)}\n",
    "\n",
    "    model_details[\"foundation_model\"] = fm\n",
    "    model_details[\"aggregator\"] = agg + \"-\" + heads.split(\"_\")[0] + \"_heads\"\n",
    "    model_details[\"classifier\"] = \"MLP\"\n",
    "    model_details[\"fold\"] = fold\n",
    "    model_details = model_details | auroc_dict | auprc_dict\n",
    "    details_df = pd.Series(model_details)\n",
    "    results = pd.concat([results, details_df.to_frame().T], ignore_index=True)"
   ]
  },
  {
   "cell_type": "code",
   "execution_count": null,
   "metadata": {},
   "outputs": [],
   "source": [
    "results.to_csv(\"outputs/experiments_by_fold.csv\", sep=\"|\")"
   ]
  }
 ],
 "metadata": {
  "kernelspec": {
   "display_name": "uni",
   "language": "python",
   "name": "python3"
  },
  "language_info": {
   "codemirror_mode": {
    "name": "ipython",
    "version": 3
   },
   "file_extension": ".py",
   "mimetype": "text/x-python",
   "name": "python",
   "nbconvert_exporter": "python",
   "pygments_lexer": "ipython3",
   "version": "3.10.14"
  }
 },
 "nbformat": 4,
 "nbformat_minor": 2
}
