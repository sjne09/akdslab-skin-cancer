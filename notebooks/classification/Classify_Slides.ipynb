{
 "cells": [
  {
   "cell_type": "code",
   "execution_count": null,
   "metadata": {},
   "outputs": [],
   "source": [
    "import os\n",
    "from dotenv import load_dotenv\n",
    "\n",
    "load_dotenv()\n",
    "os.chdir(\"../..\")\n",
    "\n",
    "DATA_DIR = os.getenv(\"DATA_DIR\")\n",
    "OUTPUT_DIR = os.getenv(\"OUTPUT_DIR\")"
   ]
  },
  {
   "cell_type": "code",
   "execution_count": null,
   "metadata": {},
   "outputs": [],
   "source": [
    "import pandas as pd\n",
    "from sklearn.linear_model import LogisticRegression\n",
    "from sklearn.metrics import average_precision_score, roc_auc_score\n",
    "from xgboost import XGBClassifier\n",
    "\n",
    "from data_processing.label import Label\n",
    "from evaluation.eval import Evaluator\n",
    "from data_processing.load_data import load_data\n",
    "from data_processing.split import train_val_split"
   ]
  },
  {
   "cell_type": "code",
   "execution_count": null,
   "metadata": {},
   "outputs": [],
   "source": [
    "label_path = os.path.join(DATA_DIR, \"labels/labels.csv\")\n",
    "embedding_path = os.path.join(\n",
    "    OUTPUT_DIR, \"resnet18/slide_embeddings/resnet_slide_embeds_GAP.pkl\"\n",
    ")\n",
    "fold_path = os.path.join(DATA_DIR, \"folds.json\")\n",
    "\n",
    "df = load_data(\n",
    "    label_path=label_path, embedding_path=embedding_path, fold_path=fold_path\n",
    ")"
   ]
  },
  {
   "cell_type": "code",
   "execution_count": null,
   "metadata": {},
   "outputs": [],
   "source": [
    "# map specimen id to a list of WSIs\n",
    "specs = df.groupby(\"specimen_id\").groups\n",
    "specs = {k: list(v) for k, v in specs.items()}\n",
    "\n",
    "# get list of slides within each fold\n",
    "slide_folds = df.groupby(\"fold\").groups\n",
    "slide_folds = [list(slides) for slides in slide_folds.values()]"
   ]
  },
  {
   "cell_type": "code",
   "execution_count": null,
   "metadata": {},
   "outputs": [],
   "source": [
    "specimen_df = df.reset_index()[\n",
    "    [\"specimen_id\", \"bowens\", \"scc\", \"bcc\", \"na\"]\n",
    "].drop_duplicates(subset=[\"specimen_id\"])\n",
    "\n",
    "spec_freqs = {\n",
    "    label: specimen_df[label].value_counts(normalize=True).iloc[1]\n",
    "    for label in Label._member_names_\n",
    "}"
   ]
  },
  {
   "cell_type": "code",
   "execution_count": null,
   "metadata": {},
   "outputs": [],
   "source": [
    "X = df[\"embedding\"]\n",
    "y = df[\"label\"]"
   ]
  },
  {
   "cell_type": "code",
   "execution_count": null,
   "metadata": {},
   "outputs": [],
   "source": [
    "auroc_keys = [k + \"_auroc\" for k in [\"benign\", \"bowens\", \"bcc\", \"scc\"]]\n",
    "auprc_keys = [k + \"_auprc\" for k in [\"benign\", \"bowens\", \"bcc\", \"scc\"]]"
   ]
  },
  {
   "cell_type": "code",
   "execution_count": null,
   "metadata": {},
   "outputs": [],
   "source": [
    "def crossval(\n",
    "    clf,\n",
    "    folds: list,\n",
    "    y_onehot: pd.DataFrame,\n",
    "    exp_name: str,\n",
    "    foundation_model: str,\n",
    "    aggregator_model: str,\n",
    "    classifier_model: str,\n",
    ") -> pd.DataFrame:\n",
    "    evaluator = Evaluator(Label)\n",
    "    results = pd.DataFrame(\n",
    "        columns=[\"foundation_model\", \"aggregator\", \"classifier\", \"fold\"]\n",
    "        + auroc_keys\n",
    "        + auprc_keys\n",
    "    )\n",
    "\n",
    "    for i, val_fold_indices in enumerate(folds):\n",
    "        # fit the classifier on the train data and extract probs\n",
    "        X_train, y_train, X_val, _ = train_val_split(\n",
    "            X, y, val_fold_indices, False\n",
    "        )\n",
    "        clf.fit(X_train, y_train)\n",
    "        probs = clf.predict_proba(X_val)\n",
    "\n",
    "        # probs are on slide-level - need specimen level\n",
    "        _, probs = Evaluator.get_spec_level_probs(val_fold_indices, probs)\n",
    "\n",
    "        # get onehot labels for val set\n",
    "        y_onehot_val = (\n",
    "            y_onehot.loc[val_fold_indices]\n",
    "            .drop_duplicates(subset=[\"specimen_id\"])[Label._member_names_]\n",
    "            .to_numpy()\n",
    "        )\n",
    "\n",
    "        evaluator.fold(probs, y_onehot_val, i, len(folds))\n",
    "\n",
    "        auroc = roc_auc_score(\n",
    "            y_onehot_val, probs, average=None, multi_class=\"ovr\"\n",
    "        )\n",
    "        auroc_dict = {auroc_keys[i]: v for i, v in enumerate(auroc)}\n",
    "\n",
    "        auprc = average_precision_score(y_onehot_val, probs, average=None)\n",
    "        auprc_dict = {auprc_keys[i]: v for i, v in enumerate(auprc)}\n",
    "\n",
    "        model_details = {}\n",
    "        model_details[\"foundation_model\"] = foundation_model\n",
    "        model_details[\"aggregator\"] = aggregator_model\n",
    "        model_details[\"classifier\"] = classifier_model\n",
    "        model_details[\"fold\"] = i\n",
    "        model_details = model_details | auroc_dict | auprc_dict\n",
    "        details_df = pd.Series(model_details)\n",
    "        results = pd.concat(\n",
    "            [results, details_df.to_frame().T], ignore_index=True\n",
    "        )\n",
    "\n",
    "    evaluator.finalize(spec_freqs)\n",
    "    evaluator.save_figs(exp_name)\n",
    "    return results"
   ]
  },
  {
   "cell_type": "code",
   "execution_count": null,
   "metadata": {},
   "outputs": [],
   "source": [
    "y_onehot = df[Label._member_names_ + [\"specimen_id\"]]"
   ]
  },
  {
   "cell_type": "code",
   "execution_count": null,
   "metadata": {},
   "outputs": [],
   "source": [
    "clf = XGBClassifier(objective=\"multi:softmax\", num_class=4)\n",
    "xgb = crossval(\n",
    "    clf,\n",
    "    slide_folds,\n",
    "    y_onehot,\n",
    "    \"resnet18/global_pooling/resnet18-xgb\",\n",
    "    \"resnet18\",\n",
    "    \"GAP\",\n",
    "    \"xgb\",\n",
    ")"
   ]
  },
  {
   "cell_type": "code",
   "execution_count": null,
   "metadata": {},
   "outputs": [],
   "source": [
    "clf = LogisticRegression(max_iter=1000, solver=\"saga\")\n",
    "lr = crossval(\n",
    "    clf,\n",
    "    slide_folds,\n",
    "    y_onehot,\n",
    "    \"resnet18/global_pooling/resnet18-lr\",\n",
    "    \"resnet18\",\n",
    "    \"GAP\",\n",
    "    \"lr\",\n",
    ")"
   ]
  },
  {
   "cell_type": "code",
   "execution_count": null,
   "metadata": {},
   "outputs": [],
   "source": [
    "final_results = pd.concat((xgb, lr), ignore_index=True)\n",
    "final_results"
   ]
  },
  {
   "cell_type": "code",
   "execution_count": null,
   "metadata": {},
   "outputs": [],
   "source": [
    "final_results.to_csv(\n",
    "    \"outputs/experiments_by_fold.csv\", sep=\"|\", mode=\"a\", header=False\n",
    ")"
   ]
  }
 ],
 "metadata": {
  "kernelspec": {
   "display_name": "UNI",
   "language": "python",
   "name": "python3"
  },
  "language_info": {
   "codemirror_mode": {
    "name": "ipython",
    "version": 3
   },
   "file_extension": ".py",
   "mimetype": "text/x-python",
   "name": "python",
   "nbconvert_exporter": "python",
   "pygments_lexer": "ipython3",
   "version": "3.10.13"
  }
 },
 "nbformat": 4,
 "nbformat_minor": 2
}
