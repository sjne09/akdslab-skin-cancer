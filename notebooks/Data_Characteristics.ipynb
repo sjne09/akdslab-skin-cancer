{
 "cells": [
  {
   "cell_type": "code",
   "execution_count": null,
   "metadata": {},
   "outputs": [],
   "source": [
    "import os\n",
    "from dotenv import load_dotenv\n",
    "\n",
    "load_dotenv()\n",
    "os.chdir(\"..\")\n",
    "\n",
    "DATA_DIR = os.environ[\"DATA_DIR\"]"
   ]
  },
  {
   "cell_type": "code",
   "execution_count": null,
   "metadata": {},
   "outputs": [],
   "source": [
    "from utils.load_data import load_data\n",
    "\n",
    "data = load_data(\n",
    "    label_path=os.path.join(DATA_DIR, \"labels/labels.csv\"),\n",
    "    fold_path=os.path.join(DATA_DIR, \"folds.json\"),\n",
    ")"
   ]
  },
  {
   "cell_type": "code",
   "execution_count": null,
   "metadata": {},
   "outputs": [],
   "source": [
    "import pandas as pd\n",
    "\n",
    "labels_by_patient = (\n",
    "    data.groupby(\"patient_id\")[\"label\"]\n",
    "    .agg(lambda x: pd.Series.mode(x)[0])\n",
    "    .to_frame()\n",
    ")\n",
    "\n",
    "data = data.merge(\n",
    "    labels_by_patient,\n",
    "    left_on=\"patient_id\",\n",
    "    right_index=True,\n",
    "    suffixes=(\"_spec\", \"_pat\"),\n",
    ")"
   ]
  },
  {
   "cell_type": "code",
   "execution_count": null,
   "metadata": {},
   "outputs": [],
   "source": [
    "agg_func = lambda x: sum(x) / len(x)"
   ]
  },
  {
   "cell_type": "code",
   "execution_count": null,
   "metadata": {},
   "outputs": [],
   "source": [
    "by_spec = data.groupby(\"fold\").agg(\n",
    "    n=(\"fold\", \"count\"),\n",
    "    bowens=(\"bowens\", agg_func),\n",
    "    bcc=(\"bcc\", agg_func),\n",
    "    scc=(\"scc\", agg_func),\n",
    "    cancerous=(\"na\", lambda x: 1 - agg_func(x)),\n",
    "    non_cancerous=(\"na\", agg_func),\n",
    ")"
   ]
  },
  {
   "cell_type": "code",
   "execution_count": null,
   "metadata": {},
   "outputs": [],
   "source": [
    "totals = (\n",
    "    data.loc[:, [\"bowens\", \"scc\", \"bcc\", \"na\"]]\n",
    "    .agg(agg_func)\n",
    "    .to_frame()\n",
    "    .T.rename(\n",
    "        columns={\n",
    "            \"na\": \"non_cancerous\",\n",
    "        }\n",
    "    )\n",
    ")\n",
    "totals[\"n\"] = len(data)\n",
    "totals[\"cancerous\"] = 1 - totals[\"non_cancerous\"]\n",
    "totals.index = [\"Agg\"]"
   ]
  },
  {
   "cell_type": "code",
   "execution_count": null,
   "metadata": {},
   "outputs": [],
   "source": [
    "# print the data characteristics at the specimen level\n",
    "pd.concat((by_spec, totals))"
   ]
  },
  {
   "cell_type": "code",
   "execution_count": null,
   "metadata": {},
   "outputs": [],
   "source": [
    "from utils.Label import Label\n",
    "\n",
    "by_fold_and_pat = data.groupby([\"fold\", \"patient_id\"]).agg(\n",
    "    bowens=(\n",
    "        \"label_pat\",\n",
    "        lambda x: 1 if x.iloc[0] == Label.bowens.value else 0,\n",
    "    ),\n",
    "    bcc=(\"label_pat\", lambda x: 1 if x.iloc[0] == Label.bcc.value else 0),\n",
    "    scc=(\"label_pat\", lambda x: 1 if x.iloc[0] == Label.scc.value else 0),\n",
    "    cancerous=(\"label_pat\", lambda x: 0 if x.iloc[0] == Label.na.value else 1),\n",
    "    non_cancerous=(\n",
    "        \"label_pat\",\n",
    "        lambda x: 1 if x.iloc[0] == Label.na.value else 0,\n",
    "    ),\n",
    ")"
   ]
  },
  {
   "cell_type": "code",
   "execution_count": null,
   "metadata": {},
   "outputs": [],
   "source": [
    "by_pat = (\n",
    "    by_fold_and_pat.reset_index()\n",
    "    .groupby(\"fold\")\n",
    "    .agg(\n",
    "        n=(\"fold\", \"count\"),\n",
    "        bowens=(\"bowens\", agg_func),\n",
    "        bcc=(\"bcc\", agg_func),\n",
    "        scc=(\"scc\", agg_func),\n",
    "        cancerous=(\"cancerous\", agg_func),\n",
    "        non_cancerous=(\"non_cancerous\", agg_func),\n",
    "    )\n",
    ")"
   ]
  },
  {
   "cell_type": "code",
   "execution_count": null,
   "metadata": {},
   "outputs": [],
   "source": [
    "totals = (\n",
    "    by_fold_and_pat.loc[\n",
    "        :, [\"bowens\", \"scc\", \"bcc\", \"cancerous\", \"non_cancerous\"]\n",
    "    ]\n",
    "    .agg(agg_func)\n",
    "    .to_frame()\n",
    "    .T\n",
    ")\n",
    "totals[\"n\"] = len(by_fold_and_pat)\n",
    "totals.index = [\"Agg\"]"
   ]
  },
  {
   "cell_type": "code",
   "execution_count": null,
   "metadata": {},
   "outputs": [],
   "source": [
    "# print the data characteristics at the patient level\n",
    "pd.concat((by_pat, totals))"
   ]
  }
 ],
 "metadata": {
  "kernelspec": {
   "display_name": "UNI",
   "language": "python",
   "name": "python3"
  },
  "language_info": {
   "codemirror_mode": {
    "name": "ipython",
    "version": 3
   },
   "file_extension": ".py",
   "mimetype": "text/x-python",
   "name": "python",
   "nbconvert_exporter": "python",
   "pygments_lexer": "ipython3",
   "version": "3.10.13"
  }
 },
 "nbformat": 4,
 "nbformat_minor": 2
}
