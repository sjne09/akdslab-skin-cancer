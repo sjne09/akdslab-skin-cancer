{
 "cells": [
  {
   "cell_type": "code",
   "execution_count": null,
   "metadata": {},
   "outputs": [],
   "source": [
    "%load_ext autoreload\n",
    "%autoreload 2"
   ]
  },
  {
   "cell_type": "code",
   "execution_count": null,
   "metadata": {},
   "outputs": [],
   "source": [
    "import os\n",
    "from dotenv import load_dotenv\n",
    "\n",
    "load_dotenv()\n",
    "os.chdir(\"..\")\n",
    "\n",
    "DATA_DIR = os.getenv(\"DATA_DIR\")\n",
    "OUTPUT_DIR = os.getenv(\"OUTPUT_DIR\")"
   ]
  },
  {
   "cell_type": "code",
   "execution_count": null,
   "metadata": {},
   "outputs": [],
   "source": [
    "# load the labels data with folds\n",
    "import numpy as np\n",
    "\n",
    "from utils.load_data import load_data\n",
    "from data_models.Label import Label\n",
    "\n",
    "label_path = os.path.join(DATA_DIR, \"labels/labels.csv\")\n",
    "embedding_path = os.path.join(\n",
    "    OUTPUT_DIR, \"prism/slide_embeddings/prism_slide_embeds_perceiver.pkl\"\n",
    ")\n",
    "\n",
    "df = load_data(label_path=label_path, embedding_path=embedding_path)\n",
    "specimens = list(df[\"specimen_id\"].unique())\n",
    "slides = list(df.reset_index()[\"slide_id\"].unique())"
   ]
  },
  {
   "cell_type": "code",
   "execution_count": null,
   "metadata": {},
   "outputs": [],
   "source": [
    "# map specimen id to a list of WSIs\n",
    "slides_by_specimen = df.groupby(\"specimen_id\").groups\n",
    "slides_by_specimen = {k: list(v) for k, v in slides_by_specimen.items()}"
   ]
  },
  {
   "cell_type": "code",
   "execution_count": null,
   "metadata": {},
   "outputs": [],
   "source": [
    "df = (\n",
    "    df.reset_index()\n",
    "    .drop(columns=[\"slide_id\"])\n",
    "    .drop_duplicates(subset=[\"specimen_id\"])\n",
    "    .set_index(\"specimen_id\")\n",
    ")\n",
    "labels_onehot = df[Label._member_names_].to_dict(orient=\"split\", index=True)\n",
    "labels_onehot = {\n",
    "    k: np.array(labels_onehot[\"data\"][i])\n",
    "    for i, k in enumerate(labels_onehot[\"index\"])\n",
    "}\n",
    "labels_dict = {row.name: int(row[\"label\"]) for _, row in df.iterrows()}"
   ]
  },
  {
   "cell_type": "code",
   "execution_count": null,
   "metadata": {},
   "outputs": [],
   "source": [
    "from data_models.Label import Label\n",
    "\n",
    "class_freqs = {\n",
    "    label: df[label].value_counts(normalize=True).iloc[1]\n",
    "    for label in Label._member_names_\n",
    "}"
   ]
  },
  {
   "cell_type": "code",
   "execution_count": null,
   "metadata": {},
   "outputs": [],
   "source": [
    "import torch\n",
    "\n",
    "os.environ[\"CUDA_VISIBLE_DEVICES\"] = \"2\"\n",
    "device = torch.device(\"cuda\" if torch.cuda.is_available() else \"cpu\")\n",
    "print(f\"Using device {device}\")"
   ]
  },
  {
   "cell_type": "code",
   "execution_count": null,
   "metadata": {},
   "outputs": [],
   "source": [
    "import pandas as pd\n",
    "from torch.utils.data import DataLoader\n",
    "\n",
    "from data_models.datasets import (\n",
    "    SlideClassificationDataset,\n",
    "    collate_slide_embeds,\n",
    ")\n",
    "from models.MLP import MLP\n",
    "from models.utils.train import val_epoch\n",
    "\n",
    "\n",
    "num_labels = 4\n",
    "embed_dim = 1280\n",
    "foundation_model = \"prism\"\n",
    "aggregator = \"PRISM\"\n",
    "best_fold = 3\n",
    "model_name = (\n",
    "    f\"chkpts/{foundation_model}/\"\n",
    "    f\"{foundation_model}-{aggregator}-fold-{best_fold}.pt\"\n",
    ")\n",
    "save_fname = os.path.join(\n",
    "    OUTPUT_DIR,\n",
    "    f\"{foundation_model}/preds/\"\n",
    "    f\"{foundation_model}-{aggregator}-fold-{best_fold}.csv\",\n",
    ")\n",
    "\n",
    "model = MLP(embed_dim, [1024, 512, 256], num_labels).to(device)\n",
    "model.load_state_dict(\n",
    "    torch.load(os.path.join(OUTPUT_DIR, model_name), weights_only=True)\n",
    ")\n",
    "dl = DataLoader(\n",
    "    SlideClassificationDataset(embedding_path, slides, labels_dict),\n",
    "    batch_size=1,\n",
    "    shuffle=False,\n",
    "    collate_fn=collate_slide_embeds,\n",
    ")\n",
    "\n",
    "_, ground_truth, probs, ids = val_epoch(\n",
    "    model=model,\n",
    "    dataloader=dl,\n",
    "    device=device,\n",
    "    input_keys=[\"slide_embed\"],\n",
    "    label_key=\"label\",\n",
    ")\n",
    "probs = probs.transpose(0, 1)\n",
    "probs = {k: probs[i].tolist() for i, k in enumerate(Label._member_names_)}\n",
    "\n",
    "pd.DataFrame(\n",
    "    {\"id\": ids, \"ground_truth\": ground_truth.tolist()} | probs\n",
    ").to_csv(save_fname, index=False)"
   ]
  }
 ],
 "metadata": {
  "kernelspec": {
   "display_name": "uni",
   "language": "python",
   "name": "python3"
  },
  "language_info": {
   "codemirror_mode": {
    "name": "ipython",
    "version": 3
   },
   "file_extension": ".py",
   "mimetype": "text/x-python",
   "name": "python",
   "nbconvert_exporter": "python",
   "pygments_lexer": "ipython3",
   "version": "3.10.14"
  }
 },
 "nbformat": 4,
 "nbformat_minor": 2
}
